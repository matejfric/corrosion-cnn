{
 "cells": [
  {
   "cell_type": "code",
   "execution_count": null,
   "metadata": {},
   "outputs": [],
   "source": [
    "%load_ext autoreload\n",
    "%autoreload 2"
   ]
  },
  {
   "cell_type": "code",
   "execution_count": null,
   "metadata": {},
   "outputs": [],
   "source": [
    "import dagshub\n",
    "import mlflow"
   ]
  },
  {
   "cell_type": "code",
   "execution_count": null,
   "metadata": {},
   "outputs": [],
   "source": [
    "dagshub.init('corrosion', 'matejfric', mlflow=True)"
   ]
  },
  {
   "cell_type": "code",
   "execution_count": null,
   "metadata": {},
   "outputs": [],
   "source": [
    "# LOAD A LOGGED MODEL FROM MLFLOW (Dagshub)\n",
    "#--------------------------------\n",
    "model_name = 'pytorch-unet-resnet34' #'pytorch-unetplusplus-resnet34'\n",
    "model_version = 2\n",
    "model_uri = f'models:/{model_name}/{model_version}'\n",
    "model = mlflow.pytorch.load_model(model_uri)"
   ]
  }
 ],
 "metadata": {
  "language_info": {
   "name": "python"
  }
 },
 "nbformat": 4,
 "nbformat_minor": 2
}
