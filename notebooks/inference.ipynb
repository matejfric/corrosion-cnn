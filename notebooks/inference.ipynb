{
 "cells": [
  {
   "cell_type": "markdown",
   "metadata": {},
   "source": [
    "# Inference"
   ]
  },
  {
   "cell_type": "code",
   "execution_count": null,
   "metadata": {},
   "outputs": [],
   "source": [
    "%load_ext autoreload\n",
    "%autoreload 2"
   ]
  },
  {
   "cell_type": "code",
   "execution_count": null,
   "metadata": {},
   "outputs": [],
   "source": [
    "from corrosion.inference import (\n",
    "    init_dagshub,\n",
    "    load_image,\n",
    "    load_image_from_url,\n",
    "    load_model_from_dagshub,\n",
    "    predict,\n",
    ")\n",
    "from corrosion.plot import plot_single_prediction"
   ]
  },
  {
   "cell_type": "code",
   "execution_count": null,
   "metadata": {},
   "outputs": [],
   "source": [
    "init_dagshub()"
   ]
  },
  {
   "cell_type": "code",
   "execution_count": null,
   "metadata": {},
   "outputs": [],
   "source": [
    "model = load_model_from_dagshub(\n",
    "    'pytorch-unetplusplus-efficientnet-b3-imagenet-with-augmentation', 1\n",
    ")"
   ]
  },
  {
   "cell_type": "code",
   "execution_count": null,
   "metadata": {},
   "outputs": [],
   "source": [
    "img = load_image_from_url(\n",
    "    'https://live.staticflickr.com/2932/14286111954_627c4061db_c_d.jpg'\n",
    ")\n",
    "mask = predict(model, img, input_size=256)\n",
    "plot_single_prediction(img, mask)"
   ]
  },
  {
   "cell_type": "code",
   "execution_count": null,
   "metadata": {},
   "outputs": [],
   "source": [
    "img = load_image(\n",
    "    'corrosion-in-industrial-complexes-in-ostrava/test/images/07.jpg'\n",
    ")\n",
    "mask = predict(model, img, input_size=256)\n",
    "plot_single_prediction(img, mask)"
   ]
  }
 ],
 "metadata": {
  "kernelspec": {
   "display_name": "Python 3 (ipykernel)",
   "language": "python",
   "name": "python3"
  },
  "language_info": {
   "codemirror_mode": {
    "name": "ipython",
    "version": 3
   },
   "file_extension": ".py",
   "mimetype": "text/x-python",
   "name": "python",
   "nbconvert_exporter": "python",
   "pygments_lexer": "ipython3",
   "version": "3.10.14"
  }
 },
 "nbformat": 4,
 "nbformat_minor": 2
}
