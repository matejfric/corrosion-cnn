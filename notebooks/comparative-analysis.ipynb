{
 "cells": [
  {
   "cell_type": "code",
   "execution_count": null,
   "metadata": {},
   "outputs": [],
   "source": [
    "import matplotlib.pyplot as plt\n",
    "import pandas as pd\n",
    "\n",
    "pd.set_option('display.max_columns', 500)\n",
    "plt.style.use('seaborn-v0_8-whitegrid')\n",
    "plt.rcParams.update({'font.size': 14})\n",
    "\n",
    "SAVE_FIGURES = False"
   ]
  },
  {
   "cell_type": "code",
   "execution_count": null,
   "metadata": {},
   "outputs": [],
   "source": [
    "df = pd.read_csv('runs.csv')\n",
    "df.head()"
   ]
  },
  {
   "cell_type": "code",
   "execution_count": null,
   "metadata": {},
   "outputs": [],
   "source": [
    "df.columns"
   ]
  },
  {
   "cell_type": "code",
   "execution_count": null,
   "metadata": {},
   "outputs": [],
   "source": [
    "META_COLUMS = [\n",
    "    'Start Time',\n",
    "    'Duration',\n",
    "    'Run ID',\n",
    "    'Source Type',\n",
    "    'Source Name',\n",
    "    'User',\n",
    "    'Status',\n",
    "    'Dataset',\n",
    "    'Commit ID',\n",
    "    'Branch',\n",
    "]\n",
    "\n",
    "CONST_COLUMNS = [\n",
    "    'early_stopping',\n",
    "    'image_size',\n",
    "    'learning_rate',\n",
    "    'max_epochs',\n",
    "    'monitor',\n",
    "    'patience',\n",
    "]\n",
    "\n",
    "METRICS_COLUMS = [\n",
    "    'test_f1s',\n",
    "    'test_jaccard',\n",
    "    'val_f1s',\n",
    "    'val_jaccard',\n",
    "]"
   ]
  },
  {
   "cell_type": "code",
   "execution_count": null,
   "metadata": {},
   "outputs": [],
   "source": [
    "df = df.drop(columns=META_COLUMS + CONST_COLUMNS)\n",
    "df.head()"
   ]
  },
  {
   "cell_type": "code",
   "execution_count": null,
   "metadata": {},
   "outputs": [],
   "source": [
    "# fill NaNs: augmentation -> True, batch_size ->  8, encoder_weights -> imagenet, frozen_encoder -> True\n",
    "\n",
    "df['augmentation'] = df['augmentation'].fillna(True)\n",
    "df['batch_size'] = df['batch_size'].fillna(8)\n",
    "df['encoder_weights'] = df['encoder_weights'].fillna('imagenet')\n",
    "df['frozen_encoder'] = df['frozen_encoder'].fillna(True)"
   ]
  },
  {
   "cell_type": "code",
   "execution_count": null,
   "metadata": {},
   "outputs": [],
   "source": [
    "df.isna().sum().sort_values(ascending=False)"
   ]
  },
  {
   "cell_type": "code",
   "execution_count": null,
   "metadata": {},
   "outputs": [],
   "source": [
    "df.sort_values(by='test_f1s', ascending=False).head(3)"
   ]
  },
  {
   "cell_type": "code",
   "execution_count": null,
   "metadata": {},
   "outputs": [],
   "source": [
    "# Select rows where encoder starts with 'efficientnet' \n",
    "# and decoder is 'unet' or 'unetplusplus'.\n",
    "df_sel = (\n",
    "    df[\n",
    "        (df['encoder'].str.startswith('efficientnet'))\n",
    "        & (df['decoder'].isin(['unet', 'unetplusplus']))\n",
    "    ]\n",
    "    .sort_values(by='test_f1s', ascending=False)\n",
    "    .head(10)\n",
    ")\n",
    "\n",
    "df_sorted = df_sel.sort_values('encoder')\n",
    "df_sorted['encoder'] = df_sorted['encoder'].str.replace(\n",
    "    'efficientnet-b', 'EfficientNet-B')\n",
    "\n",
    "# Get unique decoders for plotting\n",
    "decoders = df_sorted['decoder'].unique()\n",
    "\n",
    "plt.figure(figsize=(12, 7))\n",
    "\n",
    "for decoder in decoders:\n",
    "    subset = df_sorted[df_sorted['decoder'] == decoder]\n",
    "    plt.plot(\n",
    "        subset['encoder'],\n",
    "        subset['test_f1s'],\n",
    "        marker='o',\n",
    "        linestyle='-' if decoder == 'unetplusplus' else '--',\n",
    "        linewidth=2,\n",
    "    )\n",
    "\n",
    "# Annotate the highest score\n",
    "max_row = df_sorted.loc[df_sorted['test_f1s'].idxmax()]\n",
    "max_encoder = max_row['encoder']\n",
    "max_test_f1s = max_row['test_f1s']\n",
    "plt.annotate(\n",
    "    f'{max_test_f1s:.3f}',\n",
    "    xy=(max_encoder, max_test_f1s),  # type: ignore\n",
    "    # Adjust text position\n",
    "    xytext=(max_encoder, max_test_f1s + 0.01),  # type: ignore\n",
    "    arrowprops=dict(facecolor='black', shrink=0.1),\n",
    "    ha='center',\n",
    ")\n",
    "\n",
    "plt.legend(['UNet++', 'U-Net'], title='Decoder', frameon=True)\n",
    "plt.xlabel('Encoder')\n",
    "plt.ylabel('Test F1 Scores')\n",
    "\n",
    "if SAVE_FIGURES:\n",
    "    plt.savefig('top10_efficientnet_unet_unetplusplus.pdf')\n",
    "\n",
    "plt.show()"
   ]
  },
  {
   "cell_type": "code",
   "execution_count": null,
   "metadata": {},
   "outputs": [],
   "source": [
    "# Format table for export\n",
    "df_table = df_sel[['decoder', 'encoder'] + METRICS_COLUMS].copy()\n",
    "df_table['decoder'] = df_table['decoder'].replace(\n",
    "    {'unet': 'U-Net', 'unetplusplus': 'UNet++'}\n",
    ")\n",
    "df_table['encoder'] = df_table['encoder'].str.replace('efficientnet-b', 'B')\n",
    "\n",
    "# Add number of parameters to encoder column e.g. 'B0 (5.3M)'\n",
    "n_params_m = {\n",
    "    'B0': '5.3M',\n",
    "    'B1': '7.8M',\n",
    "    'B2': '9.2M',\n",
    "    'B3': '12M',\n",
    "    'B4': '19M',\n",
    "}\n",
    "df_table['encoder'] += (\n",
    "    ' (' + df_table['encoder'].str.extract(r'(B\\d)')[0].map(n_params_m) + ')'\n",
    ")\n",
    "\n",
    "df_table.columns = pd.MultiIndex.from_tuples(\n",
    "    [\n",
    "        (arch := 'Architecture', 'Decoder'),\n",
    "        (arch, 'EfficientNet (\\\\#params)'),\n",
    "        (test_set := 'Test set', 'F1 Score'),\n",
    "        (test_set, 'IoU'),\n",
    "        # (test_set, 'Dice loss'),\n",
    "        (val_set := 'Validation set', 'F1 Score'),\n",
    "        (val_set, 'IoU'),\n",
    "        # (val_set, 'Dice loss'),\n",
    "    ]\n",
    ")\n",
    "df_table.head()"
   ]
  },
  {
   "cell_type": "code",
   "execution_count": null,
   "metadata": {},
   "outputs": [],
   "source": [
    "# https://pandas.pydata.org/docs/reference/api/pandas.DataFrame.to_latex.html\n",
    "df_table.to_latex(\n",
    "    'table.tex',\n",
    "    index=False,\n",
    "    float_format='%.3f',\n",
    "    multicolumn_format='c',\n",
    "    caption='Best performing models with EfficientNet encoder and UNet or UNet++ decoder',\n",
    "    label='tab:efficientnet_unet_unetplusplus',\n",
    ")"
   ]
  }
 ],
 "metadata": {
  "kernelspec": {
   "display_name": "Python 3 (ipykernel)",
   "language": "python",
   "name": "python3"
  },
  "language_info": {
   "codemirror_mode": {
    "name": "ipython",
    "version": 3
   },
   "file_extension": ".py",
   "mimetype": "text/x-python",
   "name": "python",
   "nbconvert_exporter": "python",
   "pygments_lexer": "ipython3",
   "version": "3.10.14"
  }
 },
 "nbformat": 4,
 "nbformat_minor": 2
}
