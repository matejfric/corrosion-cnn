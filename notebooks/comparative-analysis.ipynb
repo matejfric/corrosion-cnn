{
 "cells": [
  {
   "cell_type": "markdown",
   "metadata": {},
   "source": [
    "# Comparative Analysis\n",
    "\n",
    "- Analysis of experiments logged into MLflow.\n",
    "- The data is downloaded in form of a CSV file from the MLflow GUI."
   ]
  },
  {
   "cell_type": "code",
   "execution_count": null,
   "metadata": {},
   "outputs": [],
   "source": [
    "import matplotlib.pyplot as plt\n",
    "import pandas as pd\n",
    "import torch\n",
    "\n",
    "from corrosion import CorrosionModel\n",
    "\n",
    "pd.set_option('display.max_columns', 500)\n",
    "plt.style.use('seaborn-v0_8-whitegrid')\n",
    "plt.rcParams.update({'font.size': 14})\n",
    "\n",
    "SAVE_FIGURES = True"
   ]
  },
  {
   "cell_type": "code",
   "execution_count": null,
   "metadata": {},
   "outputs": [],
   "source": [
    "df = pd.read_csv('runs46.csv')\n",
    "df.head()"
   ]
  },
  {
   "cell_type": "code",
   "execution_count": null,
   "metadata": {},
   "outputs": [],
   "source": [
    "df.columns"
   ]
  },
  {
   "cell_type": "code",
   "execution_count": null,
   "metadata": {},
   "outputs": [],
   "source": [
    "META_COLUMS = [\n",
    "    'Start Time',\n",
    "    'Duration',\n",
    "    'Run ID',\n",
    "    'Source Type',\n",
    "    'Source Name',\n",
    "    'User',\n",
    "    'Status',\n",
    "    'Dataset',\n",
    "    'Commit ID',\n",
    "    'Branch',\n",
    "]\n",
    "\n",
    "CONST_COLUMNS = [\n",
    "    'early_stopping',\n",
    "    'image_size',\n",
    "    'learning_rate',\n",
    "    'max_epochs',\n",
    "    'monitor',\n",
    "    'patience',\n",
    "]\n",
    "\n",
    "METRICS_COLUMS = [\n",
    "    'test_f1s',\n",
    "    'test_jaccard',\n",
    "    'val_f1s',\n",
    "    'val_jaccard',\n",
    "]"
   ]
  },
  {
   "cell_type": "code",
   "execution_count": null,
   "metadata": {},
   "outputs": [],
   "source": [
    "df = df.drop(columns=META_COLUMS + CONST_COLUMNS)\n",
    "df.head()"
   ]
  },
  {
   "cell_type": "code",
   "execution_count": null,
   "metadata": {},
   "outputs": [],
   "source": [
    "# fill NaNs: augmentation -> True, batch_size ->  8, encoder_weights -> imagenet, frozen_encoder -> True\n",
    "# (earlier runs did not log these values)\n",
    "\n",
    "df['augmentation'] = df['augmentation'].fillna(True)\n",
    "df['batch_size'] = df['batch_size'].fillna(8)\n",
    "df['encoder_weights'] = df['encoder_weights'].fillna('imagenet')\n",
    "df['frozen_encoder'] = df['frozen_encoder'].fillna(True)"
   ]
  },
  {
   "cell_type": "code",
   "execution_count": null,
   "metadata": {},
   "outputs": [],
   "source": [
    "df.isna().sum().sort_values(ascending=False)"
   ]
  },
  {
   "cell_type": "code",
   "execution_count": null,
   "metadata": {},
   "outputs": [],
   "source": [
    "df.sort_values(by='test_f1s', ascending=False).head(3)"
   ]
  },
  {
   "cell_type": "markdown",
   "metadata": {},
   "source": [
    "## Model Parameters\n",
    "\n",
    "- The number of parameters (weights) of the model is not logged, here we add them to the table."
   ]
  },
  {
   "cell_type": "code",
   "execution_count": null,
   "metadata": {},
   "outputs": [],
   "source": [
    "def count_parameters(model: torch.nn.Module) -> dict:\n",
    "    trainable_params = sum(p.numel()\n",
    "                           for p in model.parameters() if p.requires_grad)\n",
    "    non_trainable_params = sum(\n",
    "        p.numel() for p in model.parameters() if not p.requires_grad\n",
    "    )\n",
    "    total_params = trainable_params + non_trainable_params\n",
    "    param_dict = {\n",
    "        'trainable': trainable_params,\n",
    "        'non-trainable': non_trainable_params,\n",
    "        'total': total_params,\n",
    "    }\n",
    "    return param_dict"
   ]
  },
  {
   "cell_type": "code",
   "execution_count": null,
   "metadata": {},
   "outputs": [],
   "source": [
    "decoders = ['unet', 'unetplusplus']\n",
    "encoders = ['resnet18', 'resnet34', 'resnet50', 'resnet101'] + [\n",
    "    f'efficientnet-b{n}' for n in range(8)\n",
    "]\n",
    "params_list = []\n",
    "\n",
    "for decoder in decoders:\n",
    "    for encoder in encoders:\n",
    "        model = CorrosionModel(\n",
    "            decoder,\n",
    "            encoder,\n",
    "            in_channels=3,\n",
    "            out_classes=1,\n",
    "            batch_size_dict={},\n",
    "            encoder_weights=None,\n",
    "        )\n",
    "        d = count_parameters(model)\n",
    "        params_list.append(\n",
    "            (decoder, encoder, d['trainable'], d['non-trainable'], d['total'])\n",
    "        )"
   ]
  },
  {
   "cell_type": "code",
   "execution_count": null,
   "metadata": {},
   "outputs": [],
   "source": [
    "df_params = pd.DataFrame(\n",
    "    params_list,\n",
    "    columns=[\n",
    "        'decoder',\n",
    "        'encoder',\n",
    "        'trainable_params',\n",
    "        'non_trainable_params',\n",
    "        'total_params',\n",
    "    ],\n",
    ")\n",
    "df_params.head(3)"
   ]
  },
  {
   "cell_type": "code",
   "execution_count": null,
   "metadata": {},
   "outputs": [],
   "source": [
    "PARAMS_COLUMNS = list(\n",
    "    df_params.columns[df_params.columns.str.contains('params')])\n",
    "df_params[PARAMS_COLUMNS] = df_params[PARAMS_COLUMNS].astype(\n",
    "    float).div(1e6).round(1)\n",
    "df_params.head(3)"
   ]
  },
  {
   "cell_type": "code",
   "execution_count": null,
   "metadata": {},
   "outputs": [],
   "source": [
    "# Join the dataframes\n",
    "df = df.merge(df_params, how='left', on=[\n",
    "              'decoder', 'encoder'], validate='many_to_one')\n",
    "df.head(3)"
   ]
  },
  {
   "cell_type": "markdown",
   "metadata": {},
   "source": [
    "## EfficientNet"
   ]
  },
  {
   "cell_type": "code",
   "execution_count": null,
   "metadata": {},
   "outputs": [],
   "source": [
    "# Select rows where encoder starts with 'efficientnet'\n",
    "# and decoder is 'unet' or 'unetplusplus'.\n",
    "df_sel = df[\n",
    "    (df['encoder'].str.startswith('efficientnet'))\n",
    "    & (df['decoder'].isin(['unet', 'unetplusplus']))\n",
    "    & (df['Name'].str.contains('imagenet'))\n",
    "].sort_values(by='test_f1s', ascending=False)\n",
    "\n",
    "df_sorted = df_sel.sort_values(\n",
    "    'encoder', key=lambda x: x.str.extract(r'(\\d+)')[0].astype(int)\n",
    ")\n",
    "df_sorted['encoder'] = df_sorted['encoder'].str.replace('efficientnet-b', 'B')\n",
    "\n",
    "# Get unique decoders for plotting\n",
    "decoders = sorted(df_sorted['decoder'].unique())\n",
    "\n",
    "plt.figure(figsize=(12, 7))\n",
    "\n",
    "for decoder in decoders:\n",
    "    subset = df_sorted[df_sorted['decoder'] == decoder]\n",
    "    plt.plot(\n",
    "        subset['encoder'],\n",
    "        subset['test_f1s'],\n",
    "        marker='o',\n",
    "        linestyle='-' if decoder == 'unetplusplus' else '--',\n",
    "        linewidth=2,\n",
    "    )\n",
    "\n",
    "# Annotate the highest score\n",
    "max_row = df_sorted.loc[df_sorted['test_f1s'].idxmax()]\n",
    "max_encoder = max_row['encoder']\n",
    "max_test_f1s = max_row['test_f1s']\n",
    "plt.annotate(\n",
    "    f'{max_test_f1s:.3f}',\n",
    "    xy=(max_encoder, max_test_f1s),  # type: ignore\n",
    "    # Adjust text position\n",
    "    xytext=(max_encoder, max_test_f1s + 0.01),  # type: ignore\n",
    "    arrowprops=dict(facecolor='black', shrink=0.1),\n",
    "    ha='center',\n",
    ")\n",
    "\n",
    "plt.legend(['U-Net', 'UNet++'], title='Decoder', frameon=True)\n",
    "plt.xlabel('EfficientNet Encoder')\n",
    "plt.ylabel('Test F1 Scores')\n",
    "\n",
    "if SAVE_FIGURES:\n",
    "    plt.savefig('efficientnet_unet_unetplusplus.pdf')\n",
    "\n",
    "plt.show()"
   ]
  },
  {
   "cell_type": "code",
   "execution_count": null,
   "metadata": {},
   "outputs": [],
   "source": [
    "# Format table for export\n",
    "df_table = df_sel[['decoder', 'encoder'] + METRICS_COLUMS + PARAMS_COLUMNS].copy()\n",
    "df_table['decoder'] = df_table['decoder'].replace(\n",
    "    {'unet': 'U-Net', 'unetplusplus': 'UNet++'}\n",
    ")\n",
    "df_table['encoder'] = df_table['encoder'].str.replace(\n",
    "    'efficientnet-b', 'EfficientNet-B'\n",
    ")\n",
    "\n",
    "# Add number of parameters to encoder column e.g. 'B0 (5.3M)'\n",
    "# default_params = {\n",
    "#     'B0': '5.3M',\n",
    "#     'B1': '7.8M',\n",
    "#     'B2': '9.2M',\n",
    "#     'B3': '12M',\n",
    "#     'B4': '19M',\n",
    "#     'B5': '30M',\n",
    "#     'B6': '43M',\n",
    "#     'B7': '66M',\n",
    "# }\n",
    "df_table[PARAMS_COLUMNS] = df_table[PARAMS_COLUMNS].astype(str)\n",
    "df_table['encoder'] += ' (' + df_table['non_trainable_params'] + 'M)'\n",
    "df_table['decoder'] += ' (' + df_table['trainable_params'] + 'M)'\n",
    "df_export = df_table.drop(columns=PARAMS_COLUMNS)\n",
    "# df_export.insert(2, 'Total params', df_table['total_params'])\n",
    "\n",
    "df_export.columns = pd.MultiIndex.from_tuples(\n",
    "    [\n",
    "        (arch := 'Architecture', 'Decoder (\\\\#params)'),\n",
    "        (arch, 'Encoder (\\\\#params)'),\n",
    "        # (arch, 'Total params'),\n",
    "        (test_set := 'Test set', 'F1 score'),\n",
    "        (test_set, 'IoU'),\n",
    "        # (test_set, 'Dice loss'),\n",
    "        (val_set := 'Validation set', 'F1 score'),\n",
    "        (val_set, 'IoU'),\n",
    "        # (val_set, 'Dice loss'),\n",
    "    ]\n",
    ")\n",
    "df_export.head()"
   ]
  },
  {
   "cell_type": "code",
   "execution_count": null,
   "metadata": {},
   "outputs": [],
   "source": [
    "# https://pandas.pydata.org/docs/reference/api/pandas.DataFrame.to_latex.html\n",
    "df_export.to_latex(\n",
    "    'table-efficientnet.tex',\n",
    "    index=False,\n",
    "    float_format='%.3f',\n",
    "    multicolumn_format='c',\n",
    "    caption='Best performing models with EfficientNet encoder and U-Net or UNet++ decoder',\n",
    "    label='tab:efficientnet_unet_unetplusplus',\n",
    ")"
   ]
  },
  {
   "cell_type": "markdown",
   "metadata": {},
   "source": [
    "## ResNet"
   ]
  },
  {
   "cell_type": "code",
   "execution_count": null,
   "metadata": {},
   "outputs": [],
   "source": [
    "default_params_resnet = {\n",
    "    '18': '11.2M',  # 14.3M Total params with U-net\n",
    "    '34': '21.3M',  # 24.4M Total params with U-net\n",
    "    '50': '23.5M',  # 32.5M Total params with U-net\n",
    "    '101': '42.5M',  # 51.5M Total params with U-net\n",
    "}"
   ]
  },
  {
   "cell_type": "code",
   "execution_count": null,
   "metadata": {},
   "outputs": [],
   "source": [
    "# Select rows where encoder starts with 'efficientnet'\n",
    "# and decoder is 'unet' or 'unetplusplus'.\n",
    "df_sel = (\n",
    "    df[\n",
    "        (df['encoder'].str.startswith('resnet'))\n",
    "        & (df['decoder'].isin(['unet', 'unetplusplus']))\n",
    "        & (df['Name'].str.contains('imagenet-with-augmentation'))\n",
    "    ]\n",
    "    .drop_duplicates()\n",
    "    .sort_values(by='test_f1s', ascending=False)\n",
    "    .head(10)\n",
    ")\n",
    "\n",
    "df_sorted = df_sel.sort_values(\n",
    "    'encoder', key=lambda x: x.str.extract(r'(\\d+)')[0].astype(int)\n",
    ")\n",
    "df_sorted['encoder'] = df_sorted['encoder'].str.replace('resnet', 'ResNet-')\n",
    "\n",
    "# Get unique decoders for plotting\n",
    "decoders = sorted(df_sorted['decoder'].unique())\n",
    "\n",
    "plt.figure(figsize=(12, 7))\n",
    "\n",
    "for decoder in decoders:\n",
    "    subset = df_sorted[df_sorted['decoder'] == decoder]\n",
    "    plt.plot(\n",
    "        subset['encoder'],\n",
    "        subset['test_f1s'],\n",
    "        marker='o',\n",
    "        linestyle='-' if decoder == 'unetplusplus' else '--',\n",
    "        linewidth=2,\n",
    "    )\n",
    "\n",
    "# Annotate the highest score\n",
    "max_row = df_sorted.loc[df_sorted['test_f1s'].idxmax()]\n",
    "max_encoder = max_row['encoder']\n",
    "max_test_f1s = max_row['test_f1s']\n",
    "plt.annotate(\n",
    "    f'{max_test_f1s:.3f}',\n",
    "    xy=(max_encoder, max_test_f1s),  # type: ignore\n",
    "    # Adjust text position\n",
    "    xytext=(max_encoder, max_test_f1s + 0.01),  # type: ignore\n",
    "    arrowprops=dict(facecolor='black', shrink=0.1),\n",
    "    ha='center',\n",
    ")\n",
    "\n",
    "plt.legend(['U-Net', 'UNet++'], title='Decoder', frameon=True)\n",
    "plt.xlabel('Encoder')\n",
    "plt.ylabel('Test F1 Scores')\n",
    "\n",
    "if SAVE_FIGURES:\n",
    "    plt.savefig('resnet_unet_unetplusplus.pdf')\n",
    "\n",
    "plt.show()"
   ]
  },
  {
   "cell_type": "code",
   "execution_count": null,
   "metadata": {},
   "outputs": [],
   "source": [
    "# Format table for export\n",
    "df_table = df_sel[['decoder', 'encoder'] + METRICS_COLUMS + PARAMS_COLUMNS].copy()\n",
    "df_table['decoder'] = df_table['decoder'].replace(\n",
    "    {'unet': 'U-Net', 'unetplusplus': 'UNet++'}\n",
    ")\n",
    "df_table['encoder'] = df_table['encoder'].str.replace('resnet', 'ResNet-')\n",
    "\n",
    "# df_table['encoder'] += (\n",
    "#     ' (' + df_table['encoder'].str.extract(r'(\\d+)')[0].map(n_params_resnet) + ')'\n",
    "# )\n",
    "df_table[PARAMS_COLUMNS] = df_table[PARAMS_COLUMNS].astype(str)\n",
    "df_table['encoder'] += ' (' + df_table['non_trainable_params'] + 'M)'\n",
    "df_table['decoder'] += ' (' + df_table['trainable_params'] + 'M)'\n",
    "df_export = df_table.drop(columns=PARAMS_COLUMNS)\n",
    "\n",
    "df_export.columns = pd.MultiIndex.from_tuples(\n",
    "    [\n",
    "        (arch := 'Architecture', 'Decoder (\\\\#params)'),\n",
    "        (arch, 'Encoder (\\\\#params)'),\n",
    "        (test_set := 'Test set', 'F1 score'),\n",
    "        (test_set, 'IoU'),\n",
    "        # (test_set, 'Dice loss'),\n",
    "        (val_set := 'Validation set', 'F1 score'),\n",
    "        (val_set, 'IoU'),\n",
    "        # (val_set, 'Dice loss'),\n",
    "    ]\n",
    ")\n",
    "df_export.head(10)"
   ]
  },
  {
   "cell_type": "code",
   "execution_count": null,
   "metadata": {},
   "outputs": [],
   "source": [
    "# https://pandas.pydata.org/docs/reference/api/pandas.DataFrame.to_latex.html\n",
    "df_export.to_latex(\n",
    "    'table-resnet.tex',\n",
    "    index=False,\n",
    "    float_format='%.3f',\n",
    "    multicolumn_format='c',\n",
    "    caption='Comparison of models with ResNet encoder and U-Net or UNet++ decoder.',\n",
    "    label='tab:resnet_unet_unetplusplus',\n",
    ")"
   ]
  }
 ],
 "metadata": {
  "kernelspec": {
   "display_name": "Python 3 (ipykernel)",
   "language": "python",
   "name": "python3"
  },
  "language_info": {
   "codemirror_mode": {
    "name": "ipython",
    "version": 3
   },
   "file_extension": ".py",
   "mimetype": "text/x-python",
   "name": "python",
   "nbconvert_exporter": "python",
   "pygments_lexer": "ipython3",
   "version": "3.10.14"
  }
 },
 "nbformat": 4,
 "nbformat_minor": 2
}
